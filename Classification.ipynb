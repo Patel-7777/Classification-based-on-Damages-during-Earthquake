{
 "cells": [
  {
   "cell_type": "code",
   "execution_count": 1,
   "metadata": {
    "colab": {
     "base_uri": "https://localhost:8080/"
    },
    "id": "X_4PO-ceyD4w",
    "outputId": "bd2982ba-1128-42bb-c5ee-49aa5ccc2769"
   },
   "outputs": [
    {
     "name": "stdout",
     "output_type": "stream",
     "text": [
      "Mounted at /content/drive\n"
     ]
    }
   ],
   "source": [
    "# from google.colab import drive\n",
    "# drive.mount('/content/drive')"
   ]
  },
  {
   "cell_type": "code",
   "execution_count": 18,
   "metadata": {
    "id": "9HxpPd_ToJQ6"
   },
   "outputs": [],
   "source": [
    "from keras.models import Sequential\n",
    "from tensorflow import keras\n",
    "from keras import backend as K\n",
    "from tensorflow.keras.callbacks import EarlyStopping\n",
    "from keras.layers.core import Dense, Dropout\n",
    "from imutils import paths\n",
    "import cv2\n",
    "import os\n",
    "import numpy as np\n",
    "import sklearn\n",
    "from sklearn.preprocessing import LabelBinarizer\n",
    "from sklearn.model_selection import train_test_split\n",
    "from tensorflow.keras.optimizers import Adam\n",
    "from sklearn.metrics import classification_report,confusion_matrix\n",
    "from keras.applications.resnet import ResNet50\n",
    "from keras.layers import Conv2D, MaxPooling2D, Dense, Flatten, Add, Input, Concatenate\n",
    "from keras.models import Model\n",
    "from keras.regularizers import l2"
   ]
  },
  {
   "cell_type": "code",
   "execution_count": 10,
   "metadata": {
    "colab": {
     "base_uri": "https://localhost:8080/"
    },
    "id": "np9aPOgtxaQt",
    "outputId": "99cf6c73-bae7-4ca2-e652-d9dac09bff08"
   },
   "outputs": [
    {
     "name": "stdout",
     "output_type": "stream",
     "text": [
      "['Destroyed', 'Destroyed', 'Destroyed', 'Destroyed', 'Major_Damage', 'Major_Damage', 'Major_Damage', 'Major_Damage', 'Major_Damage', 'Major_Damage', 'Major_Damage', 'Major_Damage', 'Major_Damage', 'Major_Damage', 'Major_Damage', 'Major_Damage', 'Major_Damage', 'Major_Damage', 'Major_Damage', 'Major_Damage', 'Major_Damage', 'Major_Damage', 'Minor_damage', 'Minor_damage', 'Minor_damage', 'Minor_damage', 'Minor_damage', 'Minor_damage', 'Minor_damage', 'Minor_damage', 'Minor_damage', 'Minor_damage', 'Minor_damage', 'Minor_damage', 'Minor_damage', 'Minor_damage', 'Minor_damage', 'Minor_damage', 'Minor_damage', 'Minor_damage', 'Minor_damage', 'Minor_damage', 'Minor_damage', 'Minor_damage', 'Minor_damage', 'Minor_damage', 'Minor_damage', 'Minor_damage', 'Minor_damage', 'Minor_damage', 'Minor_damage', 'Minor_damage', 'Minor_damage', 'Minor_damage', 'Minor_damage', 'Minor_damage', 'Minor_damage', 'Minor_damage', 'Minor_damage', 'Minor_damage', 'Minor_damage', 'Minor_damage', 'Minor_damage', 'Minor_damage', 'Minor_damage', 'Minor_damage', 'Minor_damage', 'Minor_damage', 'Minor_damage', 'Minor_damage', 'Minor_damage', 'Minor_damage', 'Minor_damage', 'Minor_damage', 'Minor_damage', 'Minor_damage', 'Minor_damage', 'Minor_damage', 'Minor_damage', 'Minor_damage', 'Minor_damage', 'Minor_damage', 'Minor_damage', 'Minor_damage', 'Minor_damage', 'Minor_damage', 'Minor_damage', 'Minor_damage', 'Minor_damage', 'Minor_damage', 'Minor_damage', 'Minor_damage', 'Minor_damage', 'Minor_damage', 'Minor_damage', 'Minor_damage', 'Minor_damage', 'Minor_damage', 'Minor_damage', 'Minor_damage', 'Minor_damage', 'Minor_damage', 'Minor_damage', 'Minor_damage', 'Minor_damage', 'Minor_damage', 'Minor_damage', 'Minor_damage', 'Minor_damage', 'Minor_damage', 'Minor_damage', 'Minor_damage', 'Minor_damage', 'Minor_damage', 'Minor_damage', 'Minor_damage', 'Minor_damage', 'Minor_damage', 'Minor_damage', 'Minor_damage', 'Minor_damage', 'Minor_damage', 'Minor_damage', 'Minor_damage', 'Minor_damage', 'Minor_damage', 'NoDamage', 'NoDamage', 'NoDamage', 'NoDamage', 'NoDamage', 'NoDamage', 'NoDamage', 'NoDamage', 'NoDamage', 'NoDamage', 'NoDamage', 'NoDamage', 'NoDamage', 'NoDamage', 'NoDamage', 'NoDamage', 'NoDamage', 'NoDamage', 'NoDamage', 'NoDamage', 'NoDamage', 'NoDamage', 'NoDamage', 'NoDamage', 'NoDamage', 'NoDamage', 'NoDamage', 'NoDamage', 'NoDamage', 'NoDamage', 'NoDamage', 'NoDamage', 'NoDamage', 'NoDamage', 'NoDamage', 'NoDamage', 'NoDamage', 'NoDamage', 'NoDamage', 'NoDamage', 'NoDamage', 'NoDamage', 'NoDamage', 'NoDamage', 'NoDamage', 'NoDamage', 'NoDamage', 'NoDamage', 'NoDamage', 'NoDamage', 'NoDamage', 'NoDamage', 'NoDamage', 'NoDamage', 'NoDamage', 'NoDamage', 'NoDamage', 'NoDamage', 'NoDamage', 'NoDamage', 'NoDamage', 'NoDamage', 'NoDamage', 'NoDamage', 'NoDamage', 'NoDamage', 'NoDamage', 'NoDamage', 'NoDamage', 'NoDamage', 'NoDamage', 'NoDamage', 'NoDamage', 'NoDamage', 'NoDamage', 'NoDamage', 'NoDamage', 'NoDamage', 'NoDamage', 'NoDamage', 'NoDamage', 'NoDamage', 'NoDamage', 'NoDamage', 'NoDamage', 'NoDamage', 'NoDamage', 'NoDamage', 'NoDamage', 'NoDamage', 'NoDamage', 'NoDamage', 'NoDamage', 'NoDamage', 'NoDamage', 'NoDamage', 'NoDamage', 'NoDamage', 'NoDamage', 'NoDamage', 'NoDamage', 'NoDamage', 'NoDamage', 'NoDamage', 'NoDamage', 'NoDamage', 'NoDamage', 'NoDamage', 'NoDamage', 'NoDamage', 'NoDamage', 'NoDamage', 'NoDamage', 'NoDamage', 'NoDamage', 'NoDamage', 'NoDamage', 'NoDamage', 'NoDamage', 'NoDamage', 'NoDamage', 'NoDamage', 'NoDamage', 'NoDamage', 'NoDamage', 'NoDamage', 'NoDamage', 'NoDamage', 'NoDamage', 'NoDamage', 'NoDamage', 'NoDamage', 'NoDamage', 'NoDamage', 'NoDamage', 'NoDamage', 'NoDamage', 'NoDamage', 'NoDamage', 'NoDamage', 'NoDamage', 'NoDamage', 'NoDamage', 'NoDamage', 'NoDamage', 'NoDamage', 'NoDamage', 'NoDamage', 'NoDamage', 'NoDamage', 'NoDamage', 'NoDamage', 'NoDamage', 'NoDamage', 'NoDamage', 'NoDamage', 'NoDamage', 'NoDamage', 'NoDamage', 'NoDamage', 'NoDamage', 'NoDamage', 'NoDamage', 'NoDamage', 'NoDamage', 'NoDamage', 'NoDamage', 'NoDamage', 'NoDamage', 'NoDamage', 'NoDamage', 'NoDamage', 'NoDamage', 'NoDamage', 'NoDamage', 'NoDamage', 'NoDamage', 'NoDamage', 'NoDamage', 'NoDamage', 'NoDamage', 'NoDamage', 'NoDamage', 'NoDamage', 'NoDamage', 'NoDamage', 'NoDamage', 'NoDamage', 'NoDamage', 'NoDamage', 'NoDamage', 'NoDamage', 'NoDamage', 'NoDamage', 'NoDamage', 'NoDamage', 'NoDamage', 'NoDamage', 'NoDamage', 'NoDamage', 'NoDamage', 'NoDamage', 'NoDamage', 'NoDamage', 'NoDamage', 'NoDamage', 'NoDamage', 'NoDamage', 'NoDamage', 'NoDamage', 'NoDamage', 'NoDamage', 'NoDamage', 'NoDamage', 'NoDamage', 'NoDamage', 'NoDamage', 'NoDamage', 'NoDamage', 'NoDamage', 'NoDamage', 'NoDamage', 'NoDamage', 'NoDamage', 'NoDamage', 'NoDamage', 'NoDamage', 'NoDamage', 'NoDamage', 'NoDamage', 'NoDamage', 'NoDamage', 'NoDamage', 'NoDamage', 'NoDamage', 'NoDamage', 'NoDamage', 'NoDamage', 'NoDamage', 'NoDamage', 'NoDamage', 'NoDamage', 'NoDamage', 'NoDamage', 'NoDamage', 'NoDamage', 'NoDamage', 'NoDamage', 'NoDamage', 'NoDamage', 'NoDamage', 'NoDamage', 'NoDamage', 'NoDamage', 'NoDamage', 'NoDamage', 'NoDamage', 'NoDamage', 'NoDamage', 'NoDamage', 'NoDamage', 'NoDamage', 'NoDamage', 'NoDamage', 'NoDamage', 'NoDamage', 'NoDamage', 'NoDamage', 'NoDamage', 'NoDamage', 'NoDamage', 'NoDamage', 'NoDamage', 'NoDamage', 'NoDamage', 'NoDamage', 'NoDamage', 'NoDamage', 'NoDamage', 'NoDamage', 'NoDamage', 'NoDamage', 'NoDamage', 'NoDamage', 'NoDamage', 'NoDamage', 'NoDamage', 'NoDamage', 'NoDamage', 'NoDamage', 'NoDamage', 'NoDamage', 'NoDamage', 'NoDamage', 'NoDamage', 'NoDamage', 'NoDamage', 'NoDamage', 'NoDamage', 'NoDamage', 'NoDamage', 'NoDamage', 'NoDamage', 'NoDamage', 'NoDamage', 'NoDamage', 'NoDamage', 'NoDamage', 'NoDamage', 'NoDamage', 'NoDamage', 'NoDamage', 'NoDamage', 'NoDamage', 'NoDamage', 'NoDamage', 'NoDamage', 'NoDamage', 'NoDamage', 'NoDamage', 'NoDamage', 'NoDamage', 'NoDamage', 'NoDamage', 'NoDamage', 'NoDamage', 'NoDamage', 'NoDamage', 'NoDamage', 'NoDamage', 'NoDamage', 'NoDamage', 'NoDamage', 'NoDamage', 'NoDamage', 'NoDamage', 'NoDamage', 'NoDamage', 'NoDamage', 'NoDamage', 'NoDamage', 'NoDamage', 'NoDamage', 'NoDamage', 'NoDamage', 'NoDamage', 'NoDamage', 'NoDamage', 'NoDamage', 'NoDamage', 'NoDamage', 'NoDamage', 'NoDamage', 'NoDamage', 'NoDamage', 'NoDamage', 'NoDamage', 'NoDamage', 'NoDamage', 'NoDamage', 'NoDamage', 'NoDamage', 'NoDamage', 'NoDamage', 'NoDamage', 'NoDamage', 'NoDamage', 'NoDamage', 'NoDamage', 'NoDamage', 'NoDamage', 'NoDamage', 'NoDamage', 'NoDamage', 'NoDamage', 'NoDamage', 'NoDamage', 'NoDamage', 'NoDamage', 'NoDamage', 'NoDamage', 'NoDamage', 'NoDamage', 'NoDamage', 'NoDamage', 'NoDamage', 'NoDamage', 'NoDamage', 'NoDamage', 'NoDamage', 'NoDamage', 'NoDamage', 'NoDamage', 'NoDamage', 'NoDamage', 'NoDamage', 'NoDamage', 'NoDamage', 'NoDamage', 'NoDamage', 'NoDamage', 'NoDamage', 'NoDamage', 'NoDamage', 'NoDamage', 'NoDamage', 'NoDamage', 'NoDamage', 'NoDamage', 'NoDamage', 'NoDamage', 'NoDamage', 'NoDamage', 'NoDamage', 'NoDamage', 'NoDamage', 'NoDamage', 'NoDamage', 'NoDamage', 'NoDamage', 'NoDamage', 'NoDamage', 'NoDamage', 'NoDamage', 'NoDamage', 'NoDamage', 'NoDamage', 'NoDamage', 'NoDamage', 'NoDamage', 'NoDamage', 'NoDamage', 'NoDamage', 'NoDamage', 'NoDamage', 'NoDamage', 'NoDamage', 'NoDamage', 'NoDamage', 'NoDamage', 'NoDamage', 'NoDamage', 'NoDamage', 'NoDamage', 'NoDamage', 'NoDamage', 'NoDamage', 'NoDamage', 'NoDamage', 'NoDamage', 'NoDamage', 'NoDamage', 'NoDamage', 'NoDamage', 'NoDamage', 'NoDamage', 'NoDamage', 'NoDamage', 'NoDamage', 'NoDamage', 'NoDamage', 'NoDamage', 'NoDamage', 'NoDamage', 'NoDamage', 'NoDamage', 'NoDamage', 'NoDamage', 'NoDamage', 'NoDamage', 'NoDamage', 'NoDamage', 'NoDamage', 'NoDamage', 'NoDamage', 'NoDamage', 'NoDamage', 'NoDamage', 'NoDamage', 'NoDamage', 'NoDamage', 'NoDamage', 'NoDamage', 'NoDamage', 'NoDamage', 'NoDamage', 'NoDamage', 'NoDamage', 'NoDamage', 'NoDamage', 'NoDamage', 'NoDamage', 'NoDamage', 'NoDamage', 'NoDamage', 'NoDamage', 'NoDamage', 'NoDamage', 'NoDamage', 'NoDamage', 'NoDamage', 'NoDamage']\n"
     ]
    }
   ],
   "source": [
    "#Defining various classes\n",
    "classes=['Destroyed','Major_Damage','Minor_Damage','No_Damage']\n",
    "\n",
    "DATASET_PATH = \"Data\"\n",
    "\n",
    "#Spilting dataset\n",
    "Train_Split=0.75\n",
    "Val_Split=0.1\n",
    "Test_Split=0.25\n",
    "\n",
    "imagePaths = list(paths.list_images(DATASET_PATH))\n",
    "# print(imagePaths)\n",
    "data = []\n",
    "labels = []\n",
    "\n",
    "#Processing Images\n",
    "for imagePath in imagePaths:\n",
    "    label = imagePath.split(os.path.sep)[1]\n",
    "    image = cv2.imread(imagePath)\n",
    "    image = cv2.cvtColor(image, cv2.COLOR_BGR2RGB)\n",
    "    image = cv2.resize(image, (200, 200))\n",
    "    data.append(image)\n",
    "    labels.append(label)\n",
    "\n",
    "print(labels)"
   ]
  },
  {
   "cell_type": "code",
   "execution_count": 11,
   "metadata": {
    "colab": {
     "base_uri": "https://localhost:8080/"
    },
    "id": "yAAjX-X6xefv",
    "outputId": "53b10445-59a5-4b04-f05a-28f58f655148"
   },
   "outputs": [
    {
     "name": "stdout",
     "output_type": "stream",
     "text": [
      "(471, 200, 200, 3)\n",
      "(157, 200, 200, 3)\n",
      "(471, 4)\n",
      "(157, 4)\n",
      "(423, 200, 200, 3)\n",
      "(423, 4)\n",
      "(48, 200, 200, 3)\n",
      "(48, 4)\n"
     ]
    }
   ],
   "source": [
    "#Processing Data\n",
    "data = np.array(data)/255\n",
    "labels = np.array(labels)\n",
    "\n",
    "# perform one-hot encoding on the labels\n",
    "lb = LabelBinarizer()\n",
    "labels = lb.fit_transform(labels)\n",
    "\n",
    "# partition the data into training and testing splits\n",
    "(trainX, testX, trainY, testY) = train_test_split(data, labels,\n",
    "    test_size=Test_Split, random_state=42,stratify=labels )\n",
    "print(trainX.shape)\n",
    "print(testX.shape)\n",
    "print(trainY.shape)\n",
    "print(testY.shape)\n",
    "# take the validation split from the training split\n",
    "(trainX, valX, trainY, valY) = train_test_split(trainX, trainY,\n",
    "    test_size=Val_Split, random_state=84,stratify=trainY)\n",
    "print(trainX.shape)\n",
    "print(trainY.shape)\n",
    "print(valX.shape)\n",
    "print(valY.shape)"
   ]
  },
  {
   "cell_type": "code",
   "execution_count": 12,
   "metadata": {
    "colab": {
     "base_uri": "https://localhost:8080/"
    },
    "id": "4taqVbyb3iUK",
    "outputId": "33e9c7ef-6e22-4c10-ba1b-d663d2dedb09"
   },
   "outputs": [
    {
     "name": "stdout",
     "output_type": "stream",
     "text": [
      "0  1  2  3\n",
      "0  0  0  1    338\n",
      "      1  0     70\n",
      "   1  0  0     12\n",
      "1  0  0  0      3\n",
      "dtype: int64\n"
     ]
    }
   ],
   "source": [
    "import pandas as pd\n",
    "def counter(trainY):\n",
    "  dt=pd.DataFrame(trainY)\n",
    "  return dt.value_counts()\n",
    "print(counter(trainY))"
   ]
  },
  {
   "cell_type": "code",
   "execution_count": 31,
   "metadata": {
    "id": "_cIXitYMqkA2"
   },
   "outputs": [],
   "source": [
    "def predict_(model,x_test,y_test):\n",
    "    y_predict = np.asarray(model.predict(x_test))\n",
    "    print(y_predict.shape)\n",
    "    y_predict =y_predict.reshape(3,628).argmax(axis=0) \n",
    "    acc=sklearn.metrics.accuracy_score(y_test, y_predict)\n",
    "    score=sklearn.metrics.f1_score(y_test, y_predict,average='micro')\n",
    "    print(\"The micro F1 score of the model is\", score)\n",
    "    print(\"The accuracy score of the model is\", acc)\n",
    "\n",
    "def recall_m(y_true, y_pred):\n",
    "        true_positives =int( K.sum(K.round(K.clip(y_true * y_pred, 0, 1))))\n",
    "        possible_positives = int(K.sum(K.round(K.clip(y_true, 0, 1))))\n",
    "        recall = true_positives / (possible_positives + K.epsilon())\n",
    "        return recall\n",
    "\n",
    "def precision_m(y_true, y_pred):\n",
    "        true_positives =int( K.sum(K.round(K.clip(y_true * y_pred, 0, 1))))\n",
    "        predicted_positives =int( K.sum(K.round(K.clip(y_pred, 0, 1))))\n",
    "        precision = true_positives / (predicted_positives + K.epsilon())\n",
    "        return precision\n",
    "\n",
    "def f1_m(y_true, y_pred):\n",
    "    precision = precision_m(y_true, y_pred)\n",
    "    recall = recall_m(y_true, y_pred)\n",
    "    return 2*((precision*recall)/(precision+recall+K.epsilon()))"
   ]
  },
  {
   "cell_type": "code",
   "execution_count": null,
   "metadata": {
    "id": "TVJ6WekG_e-Z"
   },
   "outputs": [],
   "source": [
    "from keras.preprocessing.image import ImageDataGenerator\n",
    "datagen = ImageDataGenerator(\n",
    " rotation_range=40,\n",
    " width_shift_range=0.2,\n",
    " height_shift_range=0.2,\n",
    " shear_range=0.2,\n",
    " zoom_range=0.2,\n",
    " horizontal_flip=True,\n",
    " fill_mode='nearest')\n",
    "img_iter = datagen.flow(trainX, trainY, batch_size=64)"
   ]
  },
  {
   "cell_type": "code",
   "execution_count": null,
   "metadata": {
    "id": "9bxLf4lLq7L3"
   },
   "outputs": [],
   "source": [
    "def run_model(model,es_round=5,epoch=10,batch_size=64):\n",
    "    model.compile(loss='categorical_crossentropy',\n",
    "              optimizer=Adam(lr=0.001),\n",
    "              metrics=['accuracy'])\n",
    "    cb=EarlyStopping(monitor='val_accuracy', min_delta=0, patience=es_round, verbose=0, mode='auto', baseline=None, restore_best_weights=True)\n",
    "    model.fit(img_iter,batch_size=64,validation_data=(valX,valY),callbacks=[cb],epochs=epoch,verbose=1)\n",
    "    score=model.evaluate(testX,testY)\n",
    "    print('Evaluating Test Score..........')\n",
    "    print(\"Test Loss:{} \".format(round(score[0],2)))\n",
    "    print(\"Test Accuracy:{} %\".format(int(round(score[1]*100))))\n",
    "    print('completed.')\n",
    "    "
   ]
  },
  {
   "cell_type": "code",
   "execution_count": null,
   "metadata": {
    "id": "tK9c-PWz1PG1"
   },
   "outputs": [],
   "source": [
    "def generate_xBD_baseline_model():\n",
    "  weights = 'imagenet'\n",
    "  inputs = Input(shape=(200, 200, 3))\n",
    "\n",
    "  base_model = ResNet50(include_top=False, weights=weights, input_shape=(200, 200, 3))\n",
    "\n",
    "  for layer in base_model.layers:\n",
    "    layer.trainable = False\n",
    "\n",
    "  x = Conv2D(32, (5, 5), strides=(1, 1), padding='same', activation='relu', input_shape=(200, 200, 3))(inputs)\n",
    "  x = MaxPooling2D(pool_size=(2, 2), strides=None, padding='valid', data_format=None)(x)\n",
    "  x = Dropout(0.6)(x)\n",
    "\n",
    "  \n",
    "  x = Flatten()(x)\n",
    "\n",
    "  base_resnet = base_model(inputs)\n",
    "  base_resnet = Flatten()(base_resnet)\n",
    "\n",
    "  concated_layers = Concatenate()([x, base_resnet])\n",
    "\n",
    "  concated_layers = Dense(124, activation='relu' )(concated_layers)\n",
    "  concated_layers = Dense(64, activation='relu' )(concated_layers)\n",
    "  output = Dense(4, activation='softmax')(concated_layers)\n",
    "\n",
    "  model = Model(inputs=inputs, outputs=output)\n",
    "  return model"
   ]
  },
  {
   "cell_type": "code",
   "execution_count": null,
   "metadata": {
    "colab": {
     "base_uri": "https://localhost:8080/"
    },
    "id": "OB4XDX7Eryl3",
    "outputId": "fd442adf-6478-44ea-ebd3-f4a42752b5e5"
   },
   "outputs": [
    {
     "name": "stderr",
     "output_type": "stream",
     "text": [
      "/usr/local/lib/python3.7/dist-packages/keras/optimizer_v2/adam.py:105: UserWarning: The `lr` argument is deprecated, use `learning_rate` instead.\n",
      "  super(Adam, self).__init__(name, **kwargs)\n"
     ]
    },
    {
     "name": "stdout",
     "output_type": "stream",
     "text": [
      "Epoch 1/10\n",
      "7/7 [==============================] - 87s 12s/step - loss: 7.6438 - accuracy: 0.6194 - val_loss: 12.3080 - val_accuracy: 0.7917\n",
      "Epoch 2/10\n",
      "7/7 [==============================] - 82s 12s/step - loss: 7.9839 - accuracy: 0.6738 - val_loss: 1.0659 - val_accuracy: 0.7917\n",
      "Epoch 3/10\n",
      "7/7 [==============================] - 82s 12s/step - loss: 3.5701 - accuracy: 0.6265 - val_loss: 3.2358 - val_accuracy: 0.7917\n",
      "Epoch 4/10\n",
      "7/7 [==============================] - 81s 12s/step - loss: 2.4973 - accuracy: 0.5768 - val_loss: 2.0441 - val_accuracy: 0.7917\n",
      "Epoch 5/10\n",
      "7/7 [==============================] - 82s 12s/step - loss: 1.7795 - accuracy: 0.5957 - val_loss: 1.6070 - val_accuracy: 0.7917\n",
      "Epoch 6/10\n",
      "7/7 [==============================] - 82s 12s/step - loss: 1.8647 - accuracy: 0.6785 - val_loss: 1.6084 - val_accuracy: 0.7917\n",
      "5/5 [==============================] - 22s 4s/step - loss: 12.5662 - accuracy: 0.8025\n",
      "Evaluating Test Score..........\n",
      "Test Loss:12.57 \n",
      "Test Accuracy:80 %\n",
      "completed.\n"
     ]
    }
   ],
   "source": [
    "model=generate_xBD_baseline_model() \n",
    "run_model(model)"
   ]
  },
  {
   "cell_type": "code",
   "execution_count": null,
   "metadata": {
    "colab": {
     "base_uri": "https://localhost:8080/"
    },
    "id": "l8pY5aYLydQU",
    "outputId": "cb213e0b-e548-45e5-d15f-c95fd5765b5b"
   },
   "outputs": [
    {
     "name": "stderr",
     "output_type": "stream",
     "text": [
      "/usr/local/lib/python3.7/dist-packages/keras/engine/functional.py:1410: CustomMaskWarning: Custom mask layers require a config and must override get_config. When loading, the custom mask layer must be passed to the custom_objects argument.\n",
      "  layer_config = serialize_layer_fn(layer)\n"
     ]
    }
   ],
   "source": [
    "model.save(\"Damages.h5\")"
   ]
  },
  {
   "cell_type": "code",
   "execution_count": 6,
   "metadata": {
    "colab": {
     "base_uri": "https://localhost:8080/"
    },
    "id": "OVSn94ZQG4AJ",
    "outputId": "88f14313-a24f-441b-fce4-a3c7be298a9f"
   },
   "outputs": [
    {
     "name": "stdout",
     "output_type": "stream",
     "text": [
      "Model: \"model_6\"\n",
      "__________________________________________________________________________________________________\n",
      " Layer (type)                   Output Shape         Param #     Connected to                     \n",
      "==================================================================================================\n",
      " input_13 (InputLayer)          [(None, 200, 200, 3  0           []                               \n",
      "                                )]                                                                \n",
      "                                                                                                  \n",
      " conv2d_12 (Conv2D)             (None, 200, 200, 32  2432        ['input_13[0][0]']               \n",
      "                                )                                                                 \n",
      "                                                                                                  \n",
      " max_pooling2d_12 (MaxPooling2D  (None, 100, 100, 32  0          ['conv2d_12[0][0]']              \n",
      " )                              )                                                                 \n",
      "                                                                                                  \n",
      " dropout_9 (Dropout)            (None, 100, 100, 32  0           ['max_pooling2d_12[0][0]']       \n",
      "                                )                                                                 \n",
      "                                                                                                  \n",
      " resnet50 (Functional)          (None, 7, 7, 2048)   23587712    ['input_13[0][0]']               \n",
      "                                                                                                  \n",
      " flatten_12 (Flatten)           (None, 320000)       0           ['dropout_9[0][0]']              \n",
      "                                                                                                  \n",
      " flatten_13 (Flatten)           (None, 100352)       0           ['resnet50[0][0]']               \n",
      "                                                                                                  \n",
      " concatenate_6 (Concatenate)    (None, 420352)       0           ['flatten_12[0][0]',             \n",
      "                                                                  'flatten_13[0][0]']             \n",
      "                                                                                                  \n",
      " dense_18 (Dense)               (None, 124)          52123772    ['concatenate_6[0][0]']          \n",
      "                                                                                                  \n",
      " dense_19 (Dense)               (None, 64)           8000        ['dense_18[0][0]']               \n",
      "                                                                                                  \n",
      " dense_20 (Dense)               (None, 4)            260         ['dense_19[0][0]']               \n",
      "                                                                                                  \n",
      "==================================================================================================\n",
      "Total params: 75,722,176\n",
      "Trainable params: 52,134,464\n",
      "Non-trainable params: 23,587,712\n",
      "__________________________________________________________________________________________________\n"
     ]
    }
   ],
   "source": [
    "m=keras.models.load_model(\"Damages.h5\")\n",
    "m.summary()"
   ]
  },
  {
   "cell_type": "code",
   "execution_count": 11,
   "metadata": {
    "colab": {
     "base_uri": "https://localhost:8080/"
    },
    "id": "8ysqQ4UDUH1z",
    "outputId": "48f445f2-bf24-45a1-f677-4737ca5b9373"
   },
   "outputs": [
    {
     "name": "stdout",
     "output_type": "stream",
     "text": [
      "5/5 [==============================] - 23s 4s/step - loss: 12.5662 - accuracy: 0.8025\n"
     ]
    },
    {
     "data": {
      "text/plain": [
       "[12.566165924072266, 0.8025477528572083]"
      ]
     },
     "execution_count": 11,
     "metadata": {},
     "output_type": "execute_result"
    }
   ],
   "source": [
    "m.evaluate(testX,testY)"
   ]
  },
  {
   "cell_type": "code",
   "execution_count": 30,
   "metadata": {
    "colab": {
     "base_uri": "https://localhost:8080/"
    },
    "id": "HrxIEWiXbXnq",
    "outputId": "95df87d9-8617-422b-dbc5-9bb02f8a806c"
   },
   "outputs": [
    {
     "name": "stdout",
     "output_type": "stream",
     "text": [
      "0.80254777018946\n"
     ]
    }
   ],
   "source": [
    "y_pred = m.predict(testX, batch_size=64, verbose=0)\n",
    "print(recall_m(testY, y_pred))"
   ]
  },
  {
   "cell_type": "code",
   "execution_count": 32,
   "metadata": {
    "colab": {
     "base_uri": "https://localhost:8080/"
    },
    "id": "9FoH5yS2cJjo",
    "outputId": "56980678-64a6-4ec0-f833-1f29bcb0ebd0"
   },
   "outputs": [
    {
     "name": "stdout",
     "output_type": "stream",
     "text": [
      "0.80254777018946\n"
     ]
    }
   ],
   "source": [
    "print(precision_m(testY, y_pred))"
   ]
  },
  {
   "cell_type": "code",
   "execution_count": 33,
   "metadata": {
    "colab": {
     "base_uri": "https://localhost:8080/"
    },
    "id": "web5lCbrcKH2",
    "outputId": "d4d651fb-c867-4de9-edf6-12bcd2354203"
   },
   "outputs": [
    {
     "name": "stdout",
     "output_type": "stream",
     "text": [
      "0.8025477201894631\n"
     ]
    }
   ],
   "source": [
    "print(f1_m(testY, y_pred))"
   ]
  },
  {
   "cell_type": "code",
   "execution_count": null,
   "metadata": {
    "id": "981TogxvWEFN"
   },
   "outputs": [],
   "source": []
  }
 ],
 "metadata": {
  "colab": {
   "collapsed_sections": [],
   "name": "Classification",
   "provenance": []
  },
  "kernelspec": {
   "display_name": "Python 3",
   "language": "python",
   "name": "python3"
  },
  "language_info": {
   "codemirror_mode": {
    "name": "ipython",
    "version": 3
   },
   "file_extension": ".py",
   "mimetype": "text/x-python",
   "name": "python",
   "nbconvert_exporter": "python",
   "pygments_lexer": "ipython3",
   "version": "3.8.3"
  }
 },
 "nbformat": 4,
 "nbformat_minor": 1
}
